{
 "metadata": {
  "language_info": {
   "codemirror_mode": {
    "name": "ipython",
    "version": 3
   },
   "file_extension": ".py",
   "mimetype": "text/x-python",
   "name": "python",
   "nbconvert_exporter": "python",
   "pygments_lexer": "ipython3",
   "version": "3.7.3-final"
  },
  "orig_nbformat": 2,
  "kernelspec": {
   "name": "Python 3.7.3 64-bit ('base': conda)",
   "display_name": "Python 3.7.3 64-bit ('base': conda)",
   "metadata": {
    "interpreter": {
     "hash": "23583e978108442271fd071057f0b9da9fb1adb052cf1c5c18d11ba0c73d793d"
    }
   }
  }
 },
 "nbformat": 4,
 "nbformat_minor": 2,
 "cells": [
  {
   "cell_type": "code",
   "execution_count": 6,
   "metadata": {},
   "outputs": [],
   "source": [
    "import numpy as np\n",
    "import math\n",
    "import plotly as py\n",
    "import plotly.graph_objs as go\n",
    "from numpy.fft import fft, fftfreq, ifft\n",
    "import ipywidgets as widgets\n",
    "from plotly.subplots import make_subplots"
   ]
  },
  {
   "cell_type": "code",
   "execution_count": 2,
   "metadata": {},
   "outputs": [
    {
     "output_type": "display_data",
     "data": {
      "text/html": "        <script type=\"text/javascript\">\n        window.PlotlyConfig = {MathJaxConfig: 'local'};\n        if (window.MathJax) {MathJax.Hub.Config({SVG: {font: \"STIX-Web\"}});}\n        if (typeof require !== 'undefined') {\n        require.undef(\"plotly\");\n        requirejs.config({\n            paths: {\n                'plotly': ['https://cdn.plot.ly/plotly-latest.min']\n            }\n        });\n        require(['plotly'], function(Plotly) {\n            window._Plotly = Plotly;\n        });\n        }\n        </script>\n        "
     },
     "metadata": {}
    }
   ],
   "source": [
    "py.offline.init_notebook_mode(connected = True)"
   ]
  },
  {
   "cell_type": "code",
   "execution_count": 7,
   "metadata": {},
   "outputs": [],
   "source": [
    "Fs = 1000\n",
    "t=np.linspace(0,1,Fs)"
   ]
  },
  {
   "cell_type": "code",
   "execution_count": 8,
   "metadata": {},
   "outputs": [],
   "source": [
    "def update_plot(freq1,freq2,amp1,amp2):\n",
    "    fig = make_subplots(rows=4,cols=1)   \n",
    "    Fs=1000    \n",
    "    \n",
    "    t=np.linspace(0,1,Fs)\n",
    "    M=amp1*np.sin(2*np.pi*freq1*t)            #Message Wave\n",
    "    C=amp2*np.sin(2*np.pi*freq2*t)             #Carrier Wave\n",
    "\n",
    "    F=1*np.cos(((2*np.pi*freq2 )-(2*np.pi*freq1))*t)/2    \n",
    "    G=1*np.cos(((2*np.pi*freq2 )+(2*np.pi*freq1))*t)/2      \n",
    "    \n",
    "    Y=C+F-G              #Amplitude Modulation Formula, y=Ac*np.sin(wc*t)+(Ac*u/2)*np.cos((wc-wm)*t)-(Ac*u/2)*np.cos((wc+wm)*t)\n",
    "                                                          #C              #F                         #G\n",
    "    \n",
    "    #For Frequency Response of the Amplitude modulated wave\n",
    "    freqs = fftfreq(Fs)           \n",
    "    mask = freqs>0\n",
    "    fft_vals = np.asarray(fft(Y))\n",
    "    fft_phase = 2.0*(fft_vals/Fs)\n",
    "    fft_theo = 2.0*np.abs(fft_vals/Fs)\n",
    "    \n",
    "    trace1 = go.Scatter(\n",
    "        x=t,\n",
    "        y=M,\n",
    "        mode='lines',\n",
    "        name='Message Wave', \n",
    "        line=dict(\n",
    "            shape='spline'\n",
    "        )\n",
    "    )\n",
    "    \n",
    "    trace2 = go.Scatter(\n",
    "        x=t,\n",
    "        y=C,\n",
    "        mode='lines',\n",
    "        name='Carrier Wave',\n",
    "        line = dict(\n",
    "            shape ='spline'\n",
    "        )\n",
    "    )\n",
    "       \n",
    "    trace3 = go.Scatter(\n",
    "        x=t,\n",
    "        y=Y,\n",
    "        mode='lines',\n",
    "        name='AM wave',\n",
    "        line = dict(\n",
    "            shape ='spline'\n",
    "        )\n",
    "    )\n",
    "    \n",
    "    f = np.arange(0,1000)\n",
    "    \n",
    "    trace4 = go.Scatter(\n",
    "        x=f[mask],\n",
    "        y=fft_theo[mask],\n",
    "        mode='lines',\n",
    "        name='Frequency Spectrum',\n",
    "        line = dict(\n",
    "            shape ='spline'\n",
    "        )\n",
    "    )\n",
    "        \n",
    "    fig.add_trace(trace1,row=1,col=1)\n",
    "    fig.add_trace(trace2,row=2,col=1)\n",
    "    fig.add_trace(trace3,row=3,col=1)\n",
    "    fig.add_trace(trace4,row=4,col=1)\n",
    "    fig.update_layout()\n",
    "    py.offline.iplot(fig)\n"
   ]
  },
  {
   "cell_type": "code",
   "execution_count": 9,
   "metadata": {},
   "outputs": [],
   "source": [
    "freq1 = widgets.FloatSlider(min=0, max=50, value=1, description='Freq1')\n",
    "freq2 = widgets.FloatSlider(min=75, max=150, value=100, description='Carrier Frequency')\n",
    "amp1 = widgets.FloatSlider(min=1,max=5,value=1,description=\"Message Amplitude\")\n",
    "amp2 = widgets.FloatSlider(min=1,max=3,value=1,description=\"Carrier Amplitude\") \n",
    "    \n"
   ]
  },
  {
   "cell_type": "code",
   "execution_count": 10,
   "metadata": {},
   "outputs": [
    {
     "output_type": "display_data",
     "data": {
      "text/plain": "interactive(children=(FloatSlider(value=1.0, description='Freq1', max=50.0), FloatSlider(value=100.0, descript…",
      "application/vnd.jupyter.widget-view+json": {
       "version_major": 2,
       "version_minor": 0,
       "model_id": "0d630e05ea31481b9aaf5ab837db57c6"
      }
     },
     "metadata": {}
    }
   ],
   "source": [
    "widgets.interactive(update_plot,freq1=freq1,freq2=freq2,amp1=amp1,amp2=amp2)\n"
   ]
  },
  {
   "cell_type": "code",
   "execution_count": null,
   "metadata": {},
   "outputs": [],
   "source": []
  }
 ]
}