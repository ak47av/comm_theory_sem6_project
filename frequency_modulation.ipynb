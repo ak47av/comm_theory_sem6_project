{
 "metadata": {
  "language_info": {
   "codemirror_mode": {
    "name": "ipython",
    "version": 3
   },
   "file_extension": ".py",
   "mimetype": "text/x-python",
   "name": "python",
   "nbconvert_exporter": "python",
   "pygments_lexer": "ipython3",
   "version": "3.7.3-final"
  },
  "orig_nbformat": 2,
  "kernelspec": {
   "name": "Python 3.7.3 64-bit ('base': conda)",
   "display_name": "Python 3.7.3 64-bit ('base': conda)",
   "metadata": {
    "interpreter": {
     "hash": "23583e978108442271fd071057f0b9da9fb1adb052cf1c5c18d11ba0c73d793d"
    }
   }
  }
 },
 "nbformat": 4,
 "nbformat_minor": 2,
 "cells": [
  {
   "cell_type": "code",
   "execution_count": 1,
   "metadata": {},
   "outputs": [],
   "source": [
    "import plotly as py\n",
    "from plotly.subplots import make_subplots\n",
    "import plotly.graph_objs as go\n",
    "import ipywidgets as widgets\n",
    "import numpy as np\n",
    "from scipy import special\n",
    "from scipy import signal\n",
    "from numpy.fft import fft,ifft,fftfreq"
   ]
  },
  {
   "cell_type": "code",
   "execution_count": 2,
   "metadata": {},
   "outputs": [
    {
     "output_type": "display_data",
     "data": {
      "text/html": "        <script type=\"text/javascript\">\n        window.PlotlyConfig = {MathJaxConfig: 'local'};\n        if (window.MathJax) {MathJax.Hub.Config({SVG: {font: \"STIX-Web\"}});}\n        if (typeof require !== 'undefined') {\n        require.undef(\"plotly\");\n        requirejs.config({\n            paths: {\n                'plotly': ['https://cdn.plot.ly/plotly-latest.min']\n            }\n        });\n        require(['plotly'], function(Plotly) {\n            window._Plotly = Plotly;\n        });\n        }\n        </script>\n        "
     },
     "metadata": {}
    }
   ],
   "source": [
    "py.offline.init_notebook_mode(connected = True)"
   ]
  },
  {
   "cell_type": "code",
   "execution_count": 3,
   "metadata": {},
   "outputs": [],
   "source": [
    "Fs = 10000\n",
    "\n",
    "Lx = 1\n",
    "\n",
    "t = np.linspace(0,0.5,Fs)"
   ]
  },
  {
   "cell_type": "code",
   "execution_count": 4,
   "metadata": {},
   "outputs": [],
   "source": [
    "def update_plot(freq1,index):\n",
    "    fig = make_subplots(rows=3,cols=1)\n",
    "    \n",
    "    fc = 100\n",
    "    \n",
    "    carrier_wave = np.cos(2*np.pi*fc*t)\n",
    "    trace1 = go.Scatter(\n",
    "        x=t,\n",
    "        y=carrier_wave,\n",
    "        mode='lines',\n",
    "        name='carrier wave', \n",
    "        line=dict(\n",
    "            shape='spline'\n",
    "        )\n",
    "    )\n",
    "    \n",
    "    message_wave = np.cos(2*np.pi*freq1*t) \n",
    "    trace2 = go.Scatter(\n",
    "        x=t,\n",
    "        y=message_wave,\n",
    "        mode='lines',\n",
    "        name='sine message', \n",
    "        line=dict(\n",
    "            shape='spline'\n",
    "        )\n",
    "    )\n",
    "    \n",
    "    mod_wave = np.cos(2*np.pi*fc*t + index*np.sin(2*np.pi*freq1*t))\n",
    "    trace3 = go.Scatter(\n",
    "        x=t,\n",
    "        y=mod_wave,\n",
    "        mode='lines',\n",
    "        name='modulated wave', \n",
    "        line=dict(\n",
    "            shape='spline'\n",
    "        )\n",
    "    )\n",
    "    \n",
    "    fig.add_trace(trace1,row=1,col=1)\n",
    "    fig.add_trace(trace2,row=2,col=1)\n",
    "    fig.add_trace(trace3,row=3,col=1)\n",
    "    fig.update_xaxes(title_text='Time')\n",
    "    fig.update_yaxes(title_text='Amplitude')\n",
    "    fig.update_layout()\n",
    "    py.offline.iplot(fig)"
   ]
  },
  {
   "cell_type": "code",
   "execution_count": 5,
   "metadata": {},
   "outputs": [
    {
     "output_type": "display_data",
     "data": {
      "text/plain": "interactive(children=(FloatSlider(value=1.0, description='freq1', max=20.0, min=1.0), FloatSlider(value=1.0, d…",
      "application/vnd.jupyter.widget-view+json": {
       "version_major": 2,
       "version_minor": 0,
       "model_id": "0fc822e640924067aa9ded263976af37"
      }
     },
     "metadata": {}
    }
   ],
   "source": [
    "freq1 = widgets.FloatSlider(min=1, max=20, value=1, description='freq1')\n",
    "index = widgets.FloatSlider(min=1, max=5, value=1, description='f sensitivity')\n",
    "widgets.interactive(update_plot,freq1=freq1,index=index)    \n",
    "    \n"
   ]
  },
  {
   "cell_type": "code",
   "execution_count": null,
   "metadata": {},
   "outputs": [],
   "source": []
  }
 ]
}